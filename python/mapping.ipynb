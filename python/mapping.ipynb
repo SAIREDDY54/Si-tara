{
 "cells": [
  {
   "cell_type": "code",
   "execution_count": 8,
   "metadata": {},
   "outputs": [
    {
     "name": "stdout",
     "output_type": "stream",
     "text": [
      "dict_values(['BLUETOOTH.xlsm', 'USB.xlsm', 'BLE.xlsm', 'Lora.xlsm', 'CAN.xlsm', 'RF.xlsm', '3G.xlsm', 'GSM.xlsm', '5G.xlsm', 'UART.xlsm'])\n"
     ]
    }
   ],
   "source": [
    "dict = {'BLUETOOTH':'BLUETOOTH.xlsm', \n",
    "        'USB':'USB.xlsm', \n",
    "        'BLE':'BLE.xlsm',\n",
    "        'Lora':'Lora.xlsm',\n",
    "        'CAN':'CAN.xlsm',\n",
    "        'RF':'RF.xlsm',\n",
    "        '3G':'3G.xlsm',\n",
    "        'GSM':'GSM.xlsm',\n",
    "        '5G':'5G.xlsm',\n",
    "        'UART':'UART.xlsm' } \n",
    "print(dict.values())"
   ]
  }
 ],
 "metadata": {
  "kernelspec": {
   "display_name": "Python 3.10.8 64-bit",
   "language": "python",
   "name": "python3"
  },
  "language_info": {
   "codemirror_mode": {
    "name": "ipython",
    "version": 3
   },
   "file_extension": ".py",
   "mimetype": "text/x-python",
   "name": "python",
   "nbconvert_exporter": "python",
   "pygments_lexer": "ipython3",
   "version": "3.10.8"
  },
  "orig_nbformat": 4,
  "vscode": {
   "interpreter": {
    "hash": "43707e3338f8dc144aa3c910550de7911d430ab69eb13d80df86f3c5741fdb5d"
   }
  }
 },
 "nbformat": 4,
 "nbformat_minor": 2
}
